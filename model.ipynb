{
  "nbformat": 4,
  "nbformat_minor": 0,
  "metadata": {
    "colab": {
      "name": "final model",
      "provenance": [],
      "collapsed_sections": []
    },
    "kernelspec": {
      "name": "python3",
      "display_name": "Python 3"
    },
    "language_info": {
      "name": "python"
    }
  },
  "cells": [
    {
      "cell_type": "code",
      "metadata": {
        "id": "JimUXawHEd0F",
        "colab": {
          "base_uri": "https://localhost:8080/"
        },
        "outputId": "7468cec8-af46-4cee-aa6d-e3ff7cb72bc4"
      },
      "source": [
        "from google.colab import drive\n",
        "drive.mount(\"/content/drive\")"
      ],
      "execution_count": 1,
      "outputs": [
        {
          "output_type": "stream",
          "text": [
            "Mounted at /content/drive\n"
          ],
          "name": "stdout"
        }
      ]
    },
    {
      "cell_type": "code",
      "metadata": {
        "id": "Jk8_CdHNEyyB"
      },
      "source": [
        "import pandas as pd\n",
        "train = pd.read_csv('/content/drive/My Drive/train.csv')\n"
      ],
      "execution_count": 71,
      "outputs": []
    },
    {
      "cell_type": "code",
      "metadata": {
        "colab": {
          "base_uri": "https://localhost:8080/",
          "height": 297
        },
        "id": "w_9gHKkmClgh",
        "outputId": "6b8953e0-58de-4b7f-fe91-a1af6a8fe69a"
      },
      "source": [
        "train.describe()"
      ],
      "execution_count": 3,
      "outputs": [
        {
          "output_type": "execute_result",
          "data": {
            "text/html": [
              "<div>\n",
              "<style scoped>\n",
              "    .dataframe tbody tr th:only-of-type {\n",
              "        vertical-align: middle;\n",
              "    }\n",
              "\n",
              "    .dataframe tbody tr th {\n",
              "        vertical-align: top;\n",
              "    }\n",
              "\n",
              "    .dataframe thead th {\n",
              "        text-align: right;\n",
              "    }\n",
              "</style>\n",
              "<table border=\"1\" class=\"dataframe\">\n",
              "  <thead>\n",
              "    <tr style=\"text-align: right;\">\n",
              "      <th></th>\n",
              "      <th>label</th>\n",
              "    </tr>\n",
              "  </thead>\n",
              "  <tbody>\n",
              "    <tr>\n",
              "      <th>count</th>\n",
              "      <td>4421.000000</td>\n",
              "    </tr>\n",
              "    <tr>\n",
              "      <th>mean</th>\n",
              "      <td>485.515042</td>\n",
              "    </tr>\n",
              "    <tr>\n",
              "      <th>std</th>\n",
              "      <td>288.534563</td>\n",
              "    </tr>\n",
              "    <tr>\n",
              "      <th>min</th>\n",
              "      <td>0.000000</td>\n",
              "    </tr>\n",
              "    <tr>\n",
              "      <th>25%</th>\n",
              "      <td>233.000000</td>\n",
              "    </tr>\n",
              "    <tr>\n",
              "      <th>50%</th>\n",
              "      <td>466.000000</td>\n",
              "    </tr>\n",
              "    <tr>\n",
              "      <th>75%</th>\n",
              "      <td>736.000000</td>\n",
              "    </tr>\n",
              "    <tr>\n",
              "      <th>max</th>\n",
              "      <td>1012.000000</td>\n",
              "    </tr>\n",
              "  </tbody>\n",
              "</table>\n",
              "</div>"
            ],
            "text/plain": [
              "             label\n",
              "count  4421.000000\n",
              "mean    485.515042\n",
              "std     288.534563\n",
              "min       0.000000\n",
              "25%     233.000000\n",
              "50%     466.000000\n",
              "75%     736.000000\n",
              "max    1012.000000"
            ]
          },
          "metadata": {
            "tags": []
          },
          "execution_count": 3
        }
      ]
    },
    {
      "cell_type": "code",
      "metadata": {
        "id": "AlRtiEynaxVu"
      },
      "source": [
        "train=train[:100]"
      ],
      "execution_count": 72,
      "outputs": []
    },
    {
      "cell_type": "code",
      "metadata": {
        "colab": {
          "base_uri": "https://localhost:8080/",
          "height": 419
        },
        "id": "edh4OMk5a3fN",
        "outputId": "693a9cda-2069-475f-d509-a2cc026f1e88"
      },
      "source": [
        "train"
      ],
      "execution_count": 73,
      "outputs": [
        {
          "output_type": "execute_result",
          "data": {
            "text/html": [
              "<div>\n",
              "<style scoped>\n",
              "    .dataframe tbody tr th:only-of-type {\n",
              "        vertical-align: middle;\n",
              "    }\n",
              "\n",
              "    .dataframe tbody tr th {\n",
              "        vertical-align: top;\n",
              "    }\n",
              "\n",
              "    .dataframe thead th {\n",
              "        text-align: right;\n",
              "    }\n",
              "</style>\n",
              "<table border=\"1\" class=\"dataframe\">\n",
              "  <thead>\n",
              "    <tr style=\"text-align: right;\">\n",
              "      <th></th>\n",
              "      <th>id</th>\n",
              "      <th>label</th>\n",
              "    </tr>\n",
              "  </thead>\n",
              "  <tbody>\n",
              "    <tr>\n",
              "      <th>0</th>\n",
              "      <td>0001_00002550000001.jpg</td>\n",
              "      <td>0</td>\n",
              "    </tr>\n",
              "    <tr>\n",
              "      <th>1</th>\n",
              "      <td>0001_00002550000005.jpg</td>\n",
              "      <td>0</td>\n",
              "    </tr>\n",
              "    <tr>\n",
              "      <th>2</th>\n",
              "      <td>0001_00002550001_0000255_script.jpg</td>\n",
              "      <td>0</td>\n",
              "    </tr>\n",
              "    <tr>\n",
              "      <th>3</th>\n",
              "      <td>0001_00002620000011.jpg</td>\n",
              "      <td>1</td>\n",
              "    </tr>\n",
              "    <tr>\n",
              "      <th>4</th>\n",
              "      <td>0001_00002620001_0000262_script.jpg</td>\n",
              "      <td>1</td>\n",
              "    </tr>\n",
              "    <tr>\n",
              "      <th>...</th>\n",
              "      <td>...</td>\n",
              "      <td>...</td>\n",
              "    </tr>\n",
              "    <tr>\n",
              "      <th>95</th>\n",
              "      <td>0002_00003080000009.jpg</td>\n",
              "      <td>21</td>\n",
              "    </tr>\n",
              "    <tr>\n",
              "      <th>96</th>\n",
              "      <td>0002_00003080000010.jpg</td>\n",
              "      <td>21</td>\n",
              "    </tr>\n",
              "    <tr>\n",
              "      <th>97</th>\n",
              "      <td>0002_00003080000011.jpg</td>\n",
              "      <td>21</td>\n",
              "    </tr>\n",
              "    <tr>\n",
              "      <th>98</th>\n",
              "      <td>0002_00003080002_0000308_script.jpg</td>\n",
              "      <td>21</td>\n",
              "    </tr>\n",
              "    <tr>\n",
              "      <th>99</th>\n",
              "      <td>0002_00003130000000.jpg</td>\n",
              "      <td>22</td>\n",
              "    </tr>\n",
              "  </tbody>\n",
              "</table>\n",
              "<p>100 rows × 2 columns</p>\n",
              "</div>"
            ],
            "text/plain": [
              "                                     id  label\n",
              "0               0001_00002550000001.jpg      0\n",
              "1               0001_00002550000005.jpg      0\n",
              "2   0001_00002550001_0000255_script.jpg      0\n",
              "3               0001_00002620000011.jpg      1\n",
              "4   0001_00002620001_0000262_script.jpg      1\n",
              "..                                  ...    ...\n",
              "95              0002_00003080000009.jpg     21\n",
              "96              0002_00003080000010.jpg     21\n",
              "97              0002_00003080000011.jpg     21\n",
              "98  0002_00003080002_0000308_script.jpg     21\n",
              "99              0002_00003130000000.jpg     22\n",
              "\n",
              "[100 rows x 2 columns]"
            ]
          },
          "metadata": {
            "tags": []
          },
          "execution_count": 73
        }
      ]
    },
    {
      "cell_type": "code",
      "metadata": {
        "id": "gci_XsSsGJwp"
      },
      "source": [
        "# importing the libraries\n",
        "import pandas as pd\n",
        "import numpy as np\n",
        "\n",
        "# for reading and displaying images\n",
        "from skimage.io import imread\n",
        "import matplotlib.pyplot as plt\n",
        "%matplotlib inline\n",
        "\n",
        "# for creating validation set\n",
        "from sklearn.model_selection import train_test_split\n",
        "\n",
        "# for evaluating the model\n",
        "from sklearn.metrics import accuracy_score\n",
        "from tqdm import tqdm\n",
        "\n",
        "# PyTorch libraries and modules\n",
        "import torch\n",
        "from torch.autograd import Variable\n",
        "from torch.nn import Linear, ReLU, CrossEntropyLoss, Sequential, Conv2d, MaxPool2d, Module, Softmax, BatchNorm2d, Dropout\n",
        "from torch.optim import Adam, SGD"
      ],
      "execution_count": 44,
      "outputs": []
    },
    {
      "cell_type": "code",
      "metadata": {
        "id": "U9S6zJ0EoS3_"
      },
      "source": [
        "from skimage.transform import rescale, resize, downscale_local_mean"
      ],
      "execution_count": 45,
      "outputs": []
    },
    {
      "cell_type": "code",
      "metadata": {
        "colab": {
          "base_uri": "https://localhost:8080/",
          "height": 239
        },
        "id": "4aQ1pLCsGQJR",
        "outputId": "9904c6bb-e1c1-4f9a-b654-4c71c9286c43"
      },
      "source": [
        "train_img = []\n",
        "for img_name in tqdm(train['id']):\n",
        "  try:\n",
        "    # defining the image path\n",
        "    image_path = '/content/drive/My Drive/datasetImages/' + img_name\n",
        "    # reading the image\n",
        "    img = imread(image_path, as_gray=True)\n",
        " \n",
        "    # normalizing the pixel values\n",
        "    img /= 255.0\n",
        "    # converting the type of pixel to float 32\n",
        "    img = img.astype('float32')\n",
        "    plt.subplot(221), plt.imshow(img, cmap='gray')\n",
        "    #print(img.shape)\n",
        "    img=resize(img, (28, 28),\n",
        "                       anti_aliasing=False)\n",
        "    #print(img.shape)\n",
        "    # appending the image into the list\n",
        "    train_img.append(img)\n",
        "  except Exception as e:\n",
        "    print(e)\n",
        "    pass"
      ],
      "execution_count": 46,
      "outputs": [
        {
          "output_type": "stream",
          "text": [
            "  0%|          | 0/100 [00:00<?, ?it/s]/usr/local/lib/python3.7/dist-packages/ipykernel_launcher.py:13: MatplotlibDeprecationWarning: Adding an axes using the same arguments as a previous axes currently reuses the earlier instance.  In a future version, a new instance will always be created and returned.  Meanwhile, this warning can be suppressed, and the future behavior ensured, by passing a unique label to each axes instance.\n",
            "  del sys.path[0]\n",
            " 23%|██▎       | 23/100 [00:00<00:01, 69.98it/s]"
          ],
          "name": "stderr"
        },
        {
          "output_type": "stream",
          "text": [
            "not a TIFF file (header b'' not valid)\n"
          ],
          "name": "stdout"
        },
        {
          "output_type": "stream",
          "text": [
            "100%|██████████| 100/100 [00:02<00:00, 45.75it/s]\n"
          ],
          "name": "stderr"
        },
        {
          "output_type": "display_data",
          "data": {
            "image/png": "[encoded data removed]",
            "text/plain": [
              "<Figure size 432x288 with 1 Axes>"
            ]
          },
          "metadata": {
            "tags": [],
            "needs_background": "light"
          }
        }
      ]
    },
    {
      "cell_type": "code",
      "metadata": {
        "id": "y42csBiUkRQt"
      },
      "source": [
        "# converting the list to numpy array\n",
        "train_x = np.array(train_img)\n",
        "# defining the target\n",
        "#for train['id'] in lst\n",
        "train_y = train['label'].values\n"
      ],
      "execution_count": 47,
      "outputs": []
    },
    {
      "cell_type": "code",
      "metadata": {
        "colab": {
          "base_uri": "https://localhost:8080/"
        },
        "id": "8roS4qW_kN-p",
        "outputId": "1f8a39ed-e278-4cf1-c751-de04e59fa6f2"
      },
      "source": [
        "train_x.shape"
      ],
      "execution_count": 48,
      "outputs": [
        {
          "output_type": "execute_result",
          "data": {
            "text/plain": [
              "(99, 28, 28)"
            ]
          },
          "metadata": {
            "tags": []
          },
          "execution_count": 48
        }
      ]
    },
    {
      "cell_type": "code",
      "metadata": {
        "id": "llPuIj2ySXrQ"
      },
      "source": [
        "train_y=train_y[:-1]"
      ],
      "execution_count": 49,
      "outputs": []
    },
    {
      "cell_type": "code",
      "metadata": {
        "colab": {
          "base_uri": "https://localhost:8080/"
        },
        "id": "0tJ-fe-NcO1z",
        "outputId": "4c8704f3-d6ce-4b39-c00f-981f1deaa8b7"
      },
      "source": [
        "train_y.shape\n"
      ],
      "execution_count": 50,
      "outputs": [
        {
          "output_type": "execute_result",
          "data": {
            "text/plain": [
              "(99,)"
            ]
          },
          "metadata": {
            "tags": []
          },
          "execution_count": 50
        }
      ]
    },
    {
      "cell_type": "code",
      "metadata": {
        "id": "bS36P2y9KCvD",
        "colab": {
          "base_uri": "https://localhost:8080/",
          "height": 626
        },
        "outputId": "955359f4-7d15-4058-cd01-02638ae89fe7"
      },
      "source": [
        "i = 0\n",
        "plt.figure(figsize=(10,10))\n",
        "plt.subplot(221), plt.imshow(train_x[i])\n",
        "plt.subplot(222), plt.imshow(train_x[i+25], cmap='gray')\n",
        "plt.subplot(223), plt.imshow(train_x[i+50], cmap='gray')\n",
        "plt.subplot(224), plt.imshow(train_x[i+75], cmap='gray')"
      ],
      "execution_count": 52,
      "outputs": [
        {
          "output_type": "execute_result",
          "data": {
            "text/plain": [
              "(<matplotlib.axes._subplots.AxesSubplot at 0x7fcc98a92090>,\n",
              " <matplotlib.image.AxesImage at 0x7fcc97e35910>)"
            ]
          },
          "metadata": {
            "tags": []
          },
          "execution_count": 52
        },
        {
          "output_type": "display_data",
          "data": {
            "image/png": "[encoded data removed]",
            "text/plain": [
              "<Figure size 720x720 with 4 Axes>"
            ]
          },
          "metadata": {
            "tags": [],
            "needs_background": "light"
          }
        }
      ]
    },
    {
      "cell_type": "code",
      "metadata": {
        "id": "l_LR84O4KH2C",
        "colab": {
          "base_uri": "https://localhost:8080/"
        },
        "outputId": "31e753b6-64c8-4dcb-84f7-956acfff4bc2"
      },
      "source": [
        "\n",
        "train_x, val_x, train_y, val_y = train_test_split(train_x, train_y, test_size = 0.1)\n",
        "(train_x.shape, train_y.shape), (val_x.shape, val_y.shape)"
      ],
      "execution_count": 53,
      "outputs": [
        {
          "output_type": "execute_result",
          "data": {
            "text/plain": [
              "(((89, 28, 28), (89,)), ((10, 28, 28), (10,)))"
            ]
          },
          "metadata": {
            "tags": []
          },
          "execution_count": 53
        }
      ]
    },
    {
      "cell_type": "code",
      "metadata": {
        "id": "QTa8LEkeKSaq",
        "colab": {
          "base_uri": "https://localhost:8080/"
        },
        "outputId": "7d2beb12-06f9-47f6-b27f-d657428bbed4"
      },
      "source": [
        "train_x = train_x.reshape(89, 1, 28, 28)\n",
        "train_x  = torch.from_numpy(train_x)\n",
        "\n",
        "# converting the target into torch format\n",
        "train_y = train_y.astype(int);\n",
        "train_y = torch.from_numpy(train_y)\n",
        "\n",
        "# shape of training data\n",
        "train_x.shape, train_y.shape"
      ],
      "execution_count": 54,
      "outputs": [
        {
          "output_type": "execute_result",
          "data": {
            "text/plain": [
              "(torch.Size([89, 1, 28, 28]), torch.Size([89]))"
            ]
          },
          "metadata": {
            "tags": []
          },
          "execution_count": 54
        }
      ]
    },
    {
      "cell_type": "code",
      "metadata": {
        "id": "Flhbdff0KXV0",
        "colab": {
          "base_uri": "https://localhost:8080/"
        },
        "outputId": "e9e2ce2a-cdbb-4dfd-a764-a141cf6e38f5"
      },
      "source": [
        "# converting training images into torch format\n",
        "val_x = val_x.reshape(10, 1, 28, 28)\n",
        "val_x  = torch.from_numpy(val_x)\n",
        "\n",
        "# converting the target into torch format\n",
        "val_y = val_y.astype(int);\n",
        "val_y = torch.from_numpy(val_y)\n",
        "\n",
        "# shape of validation data\n",
        "val_x.shape, val_y.shape"
      ],
      "execution_count": 56,
      "outputs": [
        {
          "output_type": "execute_result",
          "data": {
            "text/plain": [
              "(torch.Size([10, 1, 28, 28]), torch.Size([10]))"
            ]
          },
          "metadata": {
            "tags": []
          },
          "execution_count": 56
        }
      ]
    },
    {
      "cell_type": "code",
      "metadata": {
        "id": "0IYNulIrKZTq"
      },
      "source": [
        "class Net(Module):   \n",
        "    def __init__(self):\n",
        "        super(Net, self).__init__()\n",
        "\n",
        "        self.cnn_layers = Sequential(\n",
        "            # Defining a 2D convolution layer\n",
        "            Conv2d(1, 4, kernel_size=3, stride=1, padding=1),\n",
        "            BatchNorm2d(4),\n",
        "            ReLU(inplace=True),\n",
        "            MaxPool2d(kernel_size=2, stride=2),\n",
        "            # Defining another 2D convolution layer\n",
        "            Conv2d(4, 4, kernel_size=3, stride=1, padding=1),\n",
        "            BatchNorm2d(4),\n",
        "            ReLU(inplace=True),\n",
        "            MaxPool2d(kernel_size=2, stride=2),\n",
        "        )\n",
        "\n",
        "        self.linear_layers = Sequential(\n",
        "            Linear(4 * 7 * 7, 23)\n",
        "        )\n",
        "\n",
        "    # Defining the forward pass    \n",
        "    def forward(self, x):\n",
        "        x = self.cnn_layers(x)\n",
        "        x = x.view(x.size(0), -1)\n",
        "        x = self.linear_layers(x)\n",
        "        return x"
      ],
      "execution_count": 57,
      "outputs": []
    },
    {
      "cell_type": "code",
      "metadata": {
        "id": "Sk5nlPaEKezy",
        "colab": {
          "base_uri": "https://localhost:8080/"
        },
        "outputId": "61ab15f2-f425-4317-c85c-ca1b0e5aedf1"
      },
      "source": [
        "# defining the model\n",
        "model = Net()\n",
        "# defining the optimizer\n",
        "optimizer = Adam(model.parameters(), lr=0.07)\n",
        "# defining the loss function\n",
        "criterion = CrossEntropyLoss()\n",
        "# checking if GPU is available\n",
        "if torch.cuda.is_available():\n",
        "    model = model.cuda()\n",
        "    criterion = criterion.cuda()\n",
        "    \n",
        "print(model)"
      ],
      "execution_count": 58,
      "outputs": [
        {
          "output_type": "stream",
          "text": [
            "Net(\n",
            "  (cnn_layers): Sequential(\n",
            "    (0): Conv2d(1, 4, kernel_size=(3, 3), stride=(1, 1), padding=(1, 1))\n",
            "    (1): BatchNorm2d(4, eps=1e-05, momentum=0.1, affine=True, track_running_stats=True)\n",
            "    (2): ReLU(inplace=True)\n",
            "    (3): MaxPool2d(kernel_size=2, stride=2, padding=0, dilation=1, ceil_mode=False)\n",
            "    (4): Conv2d(4, 4, kernel_size=(3, 3), stride=(1, 1), padding=(1, 1))\n",
            "    (5): BatchNorm2d(4, eps=1e-05, momentum=0.1, affine=True, track_running_stats=True)\n",
            "    (6): ReLU(inplace=True)\n",
            "    (7): MaxPool2d(kernel_size=2, stride=2, padding=0, dilation=1, ceil_mode=False)\n",
            "  )\n",
            "  (linear_layers): Sequential(\n",
            "    (0): Linear(in_features=196, out_features=23, bias=True)\n",
            "  )\n",
            ")\n"
          ],
          "name": "stdout"
        }
      ]
    },
    {
      "cell_type": "code",
      "metadata": {
        "id": "sj2bVzVOKl6V"
      },
      "source": [
        "def train(epoch):\n",
        "    model.train()\n",
        "    tr_loss = 0\n",
        "    # getting the training set\n",
        "    x_train, y_train = Variable(train_x), Variable(train_y)\n",
        "    # getting the validation set\n",
        "    x_val, y_val = Variable(val_x), Variable(val_y)\n",
        "    # converting the data into GPU format\n",
        "    if torch.cuda.is_available():\n",
        "        x_train = x_train.cuda()\n",
        "        y_train = y_train.cuda()\n",
        "        x_val = x_val.cuda()\n",
        "        y_val = y_val.cuda()\n",
        "\n",
        "    # clearing the Gradients of the model parameters\n",
        "    optimizer.zero_grad()\n",
        "    \n",
        "    # prediction for training and validation set\n",
        "    output_train = model(x_train)\n",
        "    output_val = model(x_val)\n",
        "\n",
        "    # computing the training and validation loss\n",
        "    loss_train = criterion(output_train, y_train)\n",
        "    loss_val = criterion(output_val, y_val)\n",
        "    train_losses.append(loss_train)\n",
        "    val_losses.append(loss_val)\n",
        "\n",
        "    # computing the updated weights of all the model parameters\n",
        "    loss_train.backward()\n",
        "    optimizer.step()\n",
        "    tr_loss = loss_train.item()\n",
        "    if epoch%2 == 0:\n",
        "        # printing the validation loss\n",
        "        print('Epoch : ',epoch+1, '\\t', 'loss :', loss_val)"
      ],
      "execution_count": 59,
      "outputs": []
    },
    {
      "cell_type": "code",
      "metadata": {
        "id": "R4CjZ5soKnci",
        "colab": {
          "base_uri": "https://localhost:8080/"
        },
        "outputId": "0340d32b-1797-48e5-dc2c-2722e33a969c"
      },
      "source": [
        "# defining the number of epochs\n",
        "n_epochs = 25\n",
        "# empty list to store training losses\n",
        "train_losses = []\n",
        "# empty list to store validation losses\n",
        "val_losses = []\n",
        "# training the model\n",
        "for epoch in range(n_epochs):\n",
        "    train(epoch)\n",
        "    torch.save(model,\"/content/drive/My Drive/model{}\".format(epoch))"
      ],
      "execution_count": 60,
      "outputs": [
        {
          "output_type": "stream",
          "text": [
            "Epoch :  1 \t loss : tensor(3.6284, grad_fn=<NllLossBackward>)\n",
            "Epoch :  3 \t loss : tensor(12.1952, grad_fn=<NllLossBackward>)\n",
            "Epoch :  5 \t loss : tensor(10.2302, grad_fn=<NllLossBackward>)\n",
            "Epoch :  7 \t loss : tensor(7.4578, grad_fn=<NllLossBackward>)\n",
            "Epoch :  9 \t loss : tensor(6.3185, grad_fn=<NllLossBackward>)\n",
            "Epoch :  11 \t loss : tensor(5.6898, grad_fn=<NllLossBackward>)\n",
            "Epoch :  13 \t loss : tensor(5.2186, grad_fn=<NllLossBackward>)\n",
            "Epoch :  15 \t loss : tensor(5.7140, grad_fn=<NllLossBackward>)\n",
            "Epoch :  17 \t loss : tensor(6.8359, grad_fn=<NllLossBackward>)\n",
            "Epoch :  19 \t loss : tensor(7.9816, grad_fn=<NllLossBackward>)\n",
            "Epoch :  21 \t loss : tensor(9.1952, grad_fn=<NllLossBackward>)\n",
            "Epoch :  23 \t loss : tensor(10.5346, grad_fn=<NllLossBackward>)\n",
            "Epoch :  25 \t loss : tensor(12.1647, grad_fn=<NllLossBackward>)\n"
          ],
          "name": "stdout"
        }
      ]
    },
    {
      "cell_type": "code",
      "metadata": {
        "id": "V3HTTD5eC8RF"
      },
      "source": [
        "model=torch.load(\"/content/drive/My Drive/model24\")"
      ],
      "execution_count": 61,
      "outputs": []
    },
    {
      "cell_type": "code",
      "metadata": {
        "colab": {
          "base_uri": "https://localhost:8080/",
          "height": 265
        },
        "id": "p68LcYDg-W2I",
        "outputId": "11174797-17da-4d42-e998-4d1b36392130"
      },
      "source": [
        "plt.plot(train_losses, label='Training loss')\n",
        "plt.plot(val_losses, label='Validation loss')\n",
        "plt.legend()\n",
        "plt.show()"
      ],
      "execution_count": 62,
      "outputs": [
        {
          "output_type": "display_data",
          "data": {
            "image/png": "[encoded data removed]",
            "text/plain": [
              "<Figure size 432x288 with 1 Axes>"
            ]
          },
          "metadata": {
            "tags": [],
            "needs_background": "light"
          }
        }
      ]
    },
    {
      "cell_type": "code",
      "metadata": {
        "id": "g_IPFKCaGHgR"
      },
      "source": [
        "def check(img):\n",
        "  test_img = []\n",
        "  l=[img]\n",
        "  for img_name in tqdm(l):\n",
        "    try:\n",
        "      # defining the image path\n",
        "      image_path = '/content/drive/My Drive/datasetImages/' + img_name\n",
        "      # reading the image\n",
        "      img = imread(image_path, as_gray=True)\n",
        "\n",
        "      # normalizing the pixel values\n",
        "      img /= 255.0\n",
        "      # converting the type of pixel to float 32\n",
        "      img = img.astype('float32')\n",
        "      plt.subplot(221), plt.imshow(img, cmap='gray')\n",
        "      #print(img.shape)\n",
        "      img=resize(img, (28, 28),anti_aliasing=False)\n",
        "      #print(img.shape)\n",
        "      # appending the image into the list\n",
        "      test_img.append(img)\n",
        "    except Exception as e:\n",
        "      print(e)\n",
        "      pass\n",
        "      # appending the image into the list\n",
        "  test_x = np.array(test_img)\n",
        "  test_x = test_x.reshape(1, 1, 28, 28)\n",
        "  test_x  = torch.from_numpy(test_x)    \n",
        "  with torch.no_grad():\n",
        "    output = model(test_x)\n",
        "\n",
        "  softmax = torch.exp(output).cpu()\n",
        "  prob = list(softmax.numpy())\n",
        "  predictions = np.argmax(prob, axis=1)\n",
        "  return predictions\n"
      ],
      "execution_count": 63,
      "outputs": []
    },
    {
      "cell_type": "code",
      "metadata": {
        "colab": {
          "base_uri": "https://localhost:8080/",
          "height": 185
        },
        "id": "ESclUJqAG7uO",
        "outputId": "c7c852d6-ad35-430b-f766-aab38bb746ce"
      },
      "source": [
        "check(\"0001_00002620000011.jpg\")"
      ],
      "execution_count": 75,
      "outputs": [
        {
          "output_type": "stream",
          "text": [
            "100%|██████████| 1/1 [00:00<00:00, 24.11it/s]\n"
          ],
          "name": "stderr"
        },
        {
          "output_type": "execute_result",
          "data": {
            "text/plain": [
              "array([1])"
            ]
          },
          "metadata": {
            "tags": []
          },
          "execution_count": 75
        },
        {
          "output_type": "display_data",
          "data": {
            "image/png": "[encoded data removed]",
            "text/plain": [
              "<Figure size 432x288 with 1 Axes>"
            ]
          },
          "metadata": {
            "tags": [],
            "needs_background": "light"
          }
        }
      ]
    }
  ]
}